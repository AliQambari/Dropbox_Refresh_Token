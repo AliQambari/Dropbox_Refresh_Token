{
  "nbformat": 4,
  "nbformat_minor": 0,
  "metadata": {
    "colab": {
      "provenance": []
    },
    "kernelspec": {
      "name": "python3",
      "display_name": "Python 3"
    },
    "language_info": {
      "name": "python"
    }
  },
  "cells": [
    {
      "cell_type": "code",
      "execution_count": null,
      "metadata": {
        "id": "iCS76R5dXoFs"
      },
      "outputs": [],
      "source": [
        "#Find the APP key and App secret from the App Console. (https://www.dropbox.com/developers/apps)\n",
        "#Run the following snippet (replace APP_KEY with the value obtained from last step) and complete the process in the browser to obtain Access Code Generated."
      ]
    },
    {
      "cell_type": "code",
      "source": [
        "import webbrowser\n",
        "\n",
        "APP_KEY = '<APP_KEY>'\n",
        "url = f'https://www.dropbox.com/oauth2/authorize?client_id={APP_KEY}&' \\\n",
        "      f'response_type=code&token_access_type=offline'\n",
        "\n",
        "webbrowser.open(url)"
      ],
      "metadata": {
        "id": "ULd8Hgi4Xx2d"
      },
      "execution_count": null,
      "outputs": []
    },
    {
      "cell_type": "code",
      "source": [
        "#Replace all APP_KEY, APP_SECRET, and ACCESS_CODE_GENERATED with the actual values in the following snippet. Run the snippet.\n"
      ],
      "metadata": {
        "id": "90jSoQ6aXzhS"
      },
      "execution_count": null,
      "outputs": []
    },
    {
      "cell_type": "code",
      "source": [
        "import base64\n",
        "import requests\n",
        "import json\n",
        "\n",
        "APP_KEY = '<APP_KEY>'\n",
        "APP_SECRET = '<APP_SECRET>'\n",
        "ACCESS_CODE_GENERATED = '<ACCESS_CODE_GENERATED>'\n",
        "\n",
        "BASIC_AUTH = base64.b64encode(f'{APP_KEY}:{APP_SECRET}'.encode())\n",
        "\n",
        "headers = {\n",
        "    'Authorization': f\"Basic {BASIC_AUTH}\",\n",
        "    'Content-Type': 'application/x-www-form-urlencoded',\n",
        "}\n",
        "\n",
        "data = f'code={ACCESS_CODE_GENERATED}&grant_type=authorization_code'\n",
        "\n",
        "response = requests.post('https://api.dropboxapi.com/oauth2/token',\n",
        "                         data=data,\n",
        "                         auth=(APP_KEY, APP_SECRET))\n",
        "print(json.dumps(json.loads(response.text), indent=2))"
      ],
      "metadata": {
        "id": "j2vlQxmvX2Ng"
      },
      "execution_count": null,
      "outputs": []
    }
  ]
}